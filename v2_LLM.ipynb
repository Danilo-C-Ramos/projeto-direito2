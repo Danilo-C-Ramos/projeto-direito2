{
 "cells": [
  {
   "cell_type": "code",
   "execution_count": 1,
   "id": "18aea9b2",
   "metadata": {},
   "outputs": [
    {
     "name": "stderr",
     "output_type": "stream",
     "text": [
      "/home/danilo/.local/lib/python3.10/site-packages/matplotlib/projections/__init__.py:63: UserWarning: Unable to import Axes3D. This may be due to multiple versions of Matplotlib being installed (e.g. as a system package and as a pip package). As a result, the 3D projection is not available.\n",
      "  warnings.warn(\"Unable to import Axes3D. This may be due to multiple versions of \"\n"
     ]
    }
   ],
   "source": [
    "import pandas as pd\n",
    "import numpy as np\n",
    "import matplotlib.pyplot as plt\n"
   ]
  },
  {
   "cell_type": "code",
   "execution_count": 2,
   "id": "9c637e79",
   "metadata": {},
   "outputs": [],
   "source": [
    "colunas = ['cd_causa', 'cd_atendimento', 'ds_Acao_Judicial', 'ds_fatos', 'ds_Pedidos', 'ds_Qualificacao']"
   ]
  },
  {
   "cell_type": "code",
   "execution_count": 3,
   "id": "34562b55",
   "metadata": {},
   "outputs": [
    {
     "name": "stdout",
     "output_type": "stream",
     "text": [
      "(19800, 6)\n",
      "      cd_causa             cd_atendimento                 ds_Acao_Judicial  \\\n",
      "0   CIB0500064  0825789-84.2025.8.18.0140  90 - ACAO DE REPARACAO DE DANOS   \n",
      "1   CIB0505587  1004697-72.2025.8.26.0066  90 - ACAO DE REPARACAO DE DANOS   \n",
      "2   CIB0508201  0800423-07.2025.8.15.0761  90 - ACAO DE REPARACAO DE DANOS   \n",
      "3   CIB0514647  1004875-69.2025.8.26.0438  90 - ACAO DE REPARACAO DE DANOS   \n",
      "4   CIB0500604  0010630-50.2025.8.27.2706  90 - ACAO DE REPARACAO DE DANOS   \n",
      "5   CIB0511068  0092601-36.2025.8.05.0001  90 - ACAO DE REPARACAO DE DANOS   \n",
      "6   CIB0515030  0801575-51.2025.8.18.0068  90 - ACAO DE REPARACAO DE DANOS   \n",
      "7   CIB0515018  0801452-38.2025.8.18.0073  90 - ACAO DE REPARACAO DE DANOS   \n",
      "8   CIB0515702  0800895-81.2025.8.10.0038  90 - ACAO DE REPARACAO DE DANOS   \n",
      "9   CIB0514229  0148716-17.2025.8.04.1000  90 - ACAO DE REPARACAO DE DANOS   \n",
      "10  CIB0514230  0148734-38.2025.8.04.1000  90 - ACAO DE REPARACAO DE DANOS   \n",
      "11  CIB0524760  0161843-22.2025.8.04.1000  90 - ACAO DE REPARACAO DE DANOS   \n",
      "12  CIB0517405  0004351-52.2025.8.27.2737  90 - ACAO DE REPARACAO DE DANOS   \n",
      "13  CIB0540432  1001883-75.2025.8.26.0070  90 - ACAO DE REPARACAO DE DANOS   \n",
      "14  CIB0514066  0801632-65.2025.8.15.0161  90 - ACAO DE REPARACAO DE DANOS   \n",
      "15  CIB0532244  1001385-23.2025.8.26.0411  90 - ACAO DE REPARACAO DE DANOS   \n",
      "16  CIB0512854  1001468-36.2025.8.26.0218  90 - ACAO DE REPARACAO DE DANOS   \n",
      "17  CIB0522534  0801358-42.2025.8.15.0601  90 - ACAO DE REPARACAO DE DANOS   \n",
      "18  CIB0542569  4000472-77.2025.8.26.0576  90 - ACAO DE REPARACAO DE DANOS   \n",
      "19  CIB0544238  0802070-95.2025.8.18.0068  90 - ACAO DE REPARACAO DE DANOS   \n",
      "\n",
      "                                             ds_fatos  \\\n",
      "0   DOS FATOS A parte Autora, pessoa idosa e hipos...   \n",
      "1   DOS FATOS 5. A parte autora é pessoa idosa, hi...   \n",
      "2   DOS FATOS 1. SITUAÇÃO DE VULNERABILIDADE DO CO...   \n",
      "3   DOS FATOS De plano, necessário esclarecer que ...   \n",
      "4   DOS FATOS A parte Requerente é correntista usu...   \n",
      "5   DOS FATOS Inicialmente convém suscitar que a p...   \n",
      "6   DOS FATOS A Autora, senhora idosa e oriunda de...   \n",
      "7   DOS FATOS 6. O autor, pessoa idosa e hipervuln...   \n",
      "8   Num. 150469780 - Pág. 2 na 2 de 4 Danillo Bott...   \n",
      "9   DOS FATOS A parte Requerente é titular da cont...   \n",
      "10  DOS FATOS A parte Requerente é titular da cont...   \n",
      "11  DOS FATOS A autora é cliente do Banco Bradesco...   \n",
      "12  DOS FATOS: A parte Requerente foi surpreendida...   \n",
      "13  A Autora é titular da conta corrente n° 5302-3...   \n",
      "14  FÁTICA A requerente é aposentada, conforme com...   \n",
      "15  DOS FATOS A Autora é titular da conta bancária...   \n",
      "16  Dos fatos: O requerente é titular de conta jun...   \n",
      "17  PEREIRA PA ANDRADE S SILVA CONSULTORIA A conta...   \n",
      "18  O Autor é aposentado junto ao INSS, do qual au...   \n",
      "19  O(a) requerente é correntista de longa data do...   \n",
      "\n",
      "                                           ds_Pedidos  \\\n",
      "0   DOS PEDIDOS Ante ao exposto, requer: a) Sejam ...   \n",
      "1   DOS PEDIDOS E REQUERIMENTOS 33. Diante do expo...   \n",
      "2   DOS PEDIDOS E REQUERIMENTOS Ex Positis, requer...   \n",
      "3   DOS PEDIDOS Diante do exposto, requer-se a Vos...   \n",
      "4   DOS PEDIDOS 1. QUE SEJA DEFERIDA A GRATUIDADE ...   \n",
      "5   DOS PEDIDOS Por todo o exposto, REQUER: 1. A c...   \n",
      "6   DOS PEDIDOS Diante do exposto, requer: a) A co...   \n",
      "7   DOS PEDIDOS Ante todo exposto, requer: a) Conc...   \n",
      "8   Pelo exposto, impugnada a Contestação e Docume...   \n",
      "9   DOS PEDIDOS POR TUDO AQUI DEMONSTRADO, A PARTE...   \n",
      "10  DOS PEDIDOS POR TUDO AQUI DEMONSTRADO, A PARTE...   \n",
      "11  DOS PEDIDOS Diante do exposto, requer-se a Vos...   \n",
      "12  DOS PEDIDOS: Diante do exposto, a parte Requer...   \n",
      "13  Dessa forma, REQUER a condenação da parte Ré à...   \n",
      "14  DOS PEDIDOS Ex positis, considerando todas as ...   \n",
      "15  DOS PEDIDOS Ante o exposto, requer; a) A conce...   \n",
      "16  Diante do exposto, requer-se: a) Os benefícios...   \n",
      "17  PEDIDOS FINAIS EX POSITIS, com estribo nas dis...   \n",
      "18  Ante todo o exposto: A) Tramitação do presente...   \n",
      "19  06 - REQUERIMENTO A) O deferimento da Gratuida...   \n",
      "\n",
      "                                      ds_Qualificacao  \n",
      "0   DOUTO JUÍZO DE DIREITO DA ___ VARA CÍVEL DA CO...  \n",
      "1   (17) 99779-9177 / EXCELENTÍSSIMO SENHOR DOUTOR...  \n",
      "2   AO COLENDO JUÍZO DA VARA ÚNICA DA COMARCA DE G...  \n",
      "3   Avenida Eduardo de Castilho, n.o 315, Centro, ...  \n",
      "4   AO DOUTO JUÍZO DA VARA CÍVEL DA COMARCA DE ARA...  \n",
      "5   Cel.: (71) 99911-8692 e-mail: AO DOUTO JUÍZO D...  \n",
      "6   AO JUIZO DA VARA ÚNICA DA COMARCA DE PORTO-PI ...  \n",
      "7   AO JUÍZO DA 2° VARA DA COMARCA DE SÃO RAIMUNDO...  \n",
      "8   Num. 150469780 - Pág. 1 na 1 de 4 Danillo Bott...  \n",
      "9   Rua Franco de Sá, 99, São Francisco, Manaus/AM...  \n",
      "10  Rua Franco de Sá, 99, São Francisco, Manaus/AM...  \n",
      "11  Rua Franco de Sá, 99, São Francisco, Manaus/AM...  \n",
      "12  ______________________________________________...  \n",
      "13  EXCELENTÍSSIMO SENHOR JUIZ DE DIREITO DA VARA ...  \n",
      "14  Rua Caetano Dantas, n.o 424, Centro, Cuité/PB ...  \n",
      "15  Estrada Alto Iracema, no 846, CEP 17.860-000 ...  \n",
      "16  A D V O C A C I A Luiz Carlos Galhardo OAB/SP ...  \n",
      "17  PEREIRA PA ANDRADE S SILVA CONSULTORIA AO JUÍZ...  \n",
      "18  AO DOUTO JUÍZO DA _ª VARA CÍVEL DO JUIZADO ESP...  \n",
      "19  EXCELENTÍSSIMO (A) SENHOR (A) DOUTOR (A) JUIZ ...  \n"
     ]
    }
   ],
   "source": [
    "# LINHA DE SELECAO DO INPUT\n",
    "df = pd.read_csv(\n",
    "    \"dataset_clinica20252.csv\",\n",
    "    sep=\"|\",               \n",
    "    encoding=\"utf-8\"     \n",
    ")\n",
    "\n",
    "print(df.shape)\n",
    "print(df.head(20))"
   ]
  },
  {
   "cell_type": "code",
   "execution_count": 42,
   "id": "d30cfb80",
   "metadata": {},
   "outputs": [
    {
     "name": "stdout",
     "output_type": "stream",
     "text": [
      "(1, 6)\n",
      "        cd_causa             cd_atendimento                 ds_Acao_Judicial  \\\n",
      "1744  CIB0557065  0001471-80.2025.8.04.6600  90 - ACAO DE REPARACAO DE DANOS   \n",
      "\n",
      "                                               ds_fatos  \\\n",
      "1744  A parte Autora é beneficiária da Previdência S...   \n",
      "\n",
      "                                             ds_Pedidos  \\\n",
      "1744  c1) ser declarado a inexistência dos débitos r...   \n",
      "\n",
      "                                        ds_Qualificacao  \n",
      "1744  EXCELENTÍSSIMO SENHOR DOUTOR JUIZ DE DIREITO D...  \n"
     ]
    }
   ],
   "source": [
    "df_validado_true = df.loc[\n",
    "    df['ds_fatos'].str.contains(\"A parte Autora é beneficiária da Previdência Social, sendo tal sua única fonte de renda.  Portanto, por\", \n",
    "    na=False)]\n",
    "print(df_validado_true.shape)\n",
    "print(df_validado_true.head())"
   ]
  },
  {
   "cell_type": "code",
   "execution_count": 46,
   "id": "02b2b1df",
   "metadata": {},
   "outputs": [
    {
     "name": "stdout",
     "output_type": "stream",
     "text": [
      "1\n",
      "page_content='A parte Autora é beneficiária da Previdência Social, sendo tal sua única fonte de renda.  Portanto, por ser aposentada pelo INSS, a parte autora fica vulnerável a ter em sua folha  de pagamento, descontos indevidos, como aqueles oriundos de Empréstimos  Consignados, e todos os demais, que podem ser realizados em folha, mediante a simples  posse dos dados cadastrais do Requerente.  Ocorre que a parte Requerente, ao analisar sua folha de pagamento, pode perceber que,  vem lhe sendo descontado, valores referentes a empréstimo consignado que sequer tem  conhecimento e muito menos utilizou, conforme informações abaixo extraídas do portal  MEU INSS:' metadata={'label': 'SIM'}\n"
     ]
    }
   ],
   "source": [
    "from pinecone import Pinecone, ServerlessSpec\n",
    "from langchain_pinecone import PineconeVectorStore\n",
    "from langchain_openai import OpenAIEmbeddings\n",
    "from langchain.schema import Document\n",
    "import os\n",
    "from dotenv import load_dotenv\n",
    "\n",
    "load_dotenv(override=True)\n",
    "\n",
    "pc = Pinecone(api_key=os.getenv(\"PINECONE_API_KEY\")) \n",
    "\n",
    "index_name = \"clinicas\"\n",
    "if not pc.has_index(index_name):\n",
    "    pc.create_index(\n",
    "        name=index_name,\n",
    "        dimension=3072,\n",
    "        metric='cosine',\n",
    "        spec=ServerlessSpec(cloud='aws', region='us-east-1')\n",
    "    )\n",
    "\n",
    "index = pc.Index(index_name)\n",
    "\n",
    "index.delete(delete_all=True)\n",
    "\n",
    "embeddings = OpenAIEmbeddings(\n",
    "    model=\"text-embedding-3-large\",\n",
    "    openai_api_key=os.getenv(\"OPENAI_API_KEY\")\n",
    ")\n",
    "\n",
    "docs = []\n",
    "for text in df_validado_true['ds_fatos'].dropna():\n",
    "    doc = Document(page_content=text, metadata={\"label\": \"SIM\"})\n",
    "    docs.append(doc)\n",
    "\n",
    "print(len(docs))\n",
    "print(docs[0])\n",
    "\n",
    "vector_store = PineconeVectorStore.from_documents(\n",
    "    docs,\n",
    "    embeddings,\n",
    "    index_name=index_name\n",
    ")\n"
   ]
  },
  {
   "cell_type": "code",
   "execution_count": 47,
   "id": "409b0e0d",
   "metadata": {},
   "outputs": [],
   "source": [
    "def exemplos_contexto(query: str):\n",
    "    resultados = vector_store.similarity_search_with_score(query, k=4)\n",
    "    positivos, negativos = [], []\n",
    "    for doc, score in resultados:\n",
    "        exemplo = {\"texto\": doc.page_content, \"score\": score}\n",
    "        if doc.metadata[\"label\"] == \"SIM\":\n",
    "            positivos.append(exemplo)\n",
    "        else:\n",
    "            negativos.append(exemplo)\n",
    "    return positivos[:2], negativos[:2]"
   ]
  },
  {
   "cell_type": "code",
   "execution_count": 48,
   "id": "9cd05640",
   "metadata": {},
   "outputs": [
    {
     "name": "stdout",
     "output_type": "stream",
     "text": [
      "([{'texto': 'A parte Autora é beneficiária da Previdência Social, sendo tal sua única fonte de renda.  Portanto, por ser aposentada pelo INSS, a parte autora fica vulnerável a ter em sua folha  de pagamento, descontos indevidos, como aqueles oriundos de Empréstimos  Consignados, e todos os demais, que podem ser realizados em folha, mediante a simples  posse dos dados cadastrais do Requerente.  Ocorre que a parte Requerente, ao analisar sua folha de pagamento, pode perceber que,  vem lhe sendo descontado, valores referentes a empréstimo consignado que sequer tem  conhecimento e muito menos utilizou, conforme informações abaixo extraídas do portal  MEU INSS:', 'score': 0.670984268}], [])\n"
     ]
    }
   ],
   "source": [
    "print(exemplos_contexto(\"A parte Autora é beneficiária da Previdência Social, sendo tal sua única fonte de renda.  Portanto, por\"))"
   ]
  },
  {
   "cell_type": "code",
   "execution_count": 34,
   "id": "75d8247c",
   "metadata": {},
   "outputs": [],
   "source": [
    "from langchain.chat_models import ChatOpenAI\n",
    "from langchain.prompts import ChatPromptTemplate\n",
    "from enum import Enum\n",
    "from pydantic import BaseModel, Field\n",
    "from langchain_core.output_parsers import PydanticOutputParser\n",
    "\n",
    "class BinaryChoice(str, Enum):\n",
    "    SIM = \"SIM\"\n",
    "    NAO = \"NAO\"\n",
    "\n",
    "class Classificador(BaseModel):\n",
    "    binary_score: BinaryChoice = Field(\n",
    "        description=\"SIM para crédito consignado como causa raiz, NAO para documentos com outra causa principal\"\n",
    "    )\n"
   ]
  },
  {
   "cell_type": "code",
   "execution_count": 54,
   "id": "c414c538",
   "metadata": {},
   "outputs": [],
   "source": [
    "def classificar_linhas(texto: str, ctx_true, ctx_false) -> str:\n",
    "    model = ChatOpenAI(model=\"gpt-4o\", temperature=0)\n",
    "\n",
    "    parser = PydanticOutputParser(pydantic_object=Classificador)\n",
    "    \n",
    "    prompt_template = '''\n",
    "    Você é um especialista em análise de documentos jurídicos brasileiros.\n",
    "\n",
    "    Analise o texto abaixo e classifique se o caso trata de CRÉDITO CONSIGNADO.\n",
    "\n",
    "    CRÉDITO CONSIGNADO é caracterizado por:\n",
    "    - Contratação VOLUNTÁRIA de empréstimo com desconto em folha de pagamento\n",
    "    - Autor SOLICITOU o empréstimo e AUTORIZOU os descontos\n",
    "    - Discussão sobre TAXAS DE JUROS, PRAZOS ou CONDIÇÕES do empréstimo consignado\n",
    "    - Margem consignável excedida\n",
    "    - Problemas com portabilidade de crédito consignado\n",
    "\n",
    "    NÃO é crédito consignado:\n",
    "    - Descontos NÃO AUTORIZADOS de seguros, cartões ou serviços bancários\n",
    "    - Cobranças indevidas de produtos não contratados\n",
    "    - Venda casada\n",
    "    - Negativação indevida\n",
    "    - Cartão de crédito comum (não consignado)\n",
    "\n",
    "    Use como contexto os exemplos abaixo:\n",
    "    Exemplos POSITIVOS (CRÉDITO CONSIGNADO):\n",
    "    {ctx_true}\n",
    "\n",
    "    Exemplos NEGATIVOS (NÃO CRÉDITO CONSIGNADO):\n",
    "    {ctx_false}\n",
    "\n",
    "    Utilize o score dos exemplos para ajudar na decisão.\n",
    "\n",
    "    Texto para analisar: {texto}\n",
    "\n",
    "    {format_instructions}\n",
    "    '''\n",
    "        \n",
    "    prompt = ChatPromptTemplate.from_template(\n",
    "        template=prompt_template,\n",
    "        partial_variables={\"format_instructions\": parser.get_format_instructions()}\n",
    "    )\n",
    "    \n",
    "\n",
    "    chain = prompt | model | parser\n",
    "    \n",
    "    \n",
    "    resultado = chain.invoke({\"texto\": texto, \"ctx_true\": ctx_true, \"ctx_false\": ctx_false})\n",
    "    \n",
    "    return resultado.binary_score.value"
   ]
  },
  {
   "cell_type": "code",
   "execution_count": null,
   "id": "3bfcd986",
   "metadata": {},
   "outputs": [
    {
     "data": {
      "text/plain": [
       "'SIM'"
      ]
     },
     "execution_count": 56,
     "metadata": {},
     "output_type": "execute_result"
    }
   ],
   "source": [
    "texto = df_validado_true['ds_fatos'].iloc[0]\n",
    "\n",
    "pos, neg = exemplos_contexto(texto)\n",
    "ctx_true = \"\\n\".join([f\"{ex['texto']} - score: {ex['score']}\" for i, ex in enumerate(pos)])\n",
    "ctx_false = \"\\n\".join([f\"{ex['texto']} - score: {ex['score']}\" for i, ex in enumerate(neg)])\n",
    "\n",
    "classificar_linhas(df_validado_true['ds_fatos'].iloc[0], ctx_true, ctx_false)"
   ]
  },
  {
   "cell_type": "code",
   "execution_count": 56,
   "id": "3bfcd986",
   "metadata": {},
   "outputs": [],
   "source": []
  }
 ],
 "metadata": {
  "kernelspec": {
   "display_name": "Python 3",
   "language": "python",
   "name": "python3"
  },
  "language_info": {
   "codemirror_mode": {
    "name": "ipython",
    "version": 3
   },
   "file_extension": ".py",
   "mimetype": "text/x-python",
   "name": "python",
   "nbconvert_exporter": "python",
   "pygments_lexer": "ipython3",
   "version": "3.10.12"
  }
 },
 "nbformat": 4,
 "nbformat_minor": 5
}
