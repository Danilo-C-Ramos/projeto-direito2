{
 "cells": [
  {
   "cell_type": "code",
   "execution_count": 1,
   "id": "18aea9b2",
   "metadata": {},
   "outputs": [],
   "source": [
    "import pandas as pd\n",
    "from langchain.chat_models import ChatOpenAI\n",
    "from langchain.prompts import ChatPromptTemplate\n",
    "from enum import Enum\n",
    "from pydantic import BaseModel, Field\n",
    "from langchain_core.output_parsers import PydanticOutputParser\n"
   ]
  },
  {
   "cell_type": "code",
   "execution_count": 2,
   "id": "9c637e79",
   "metadata": {},
   "outputs": [],
   "source": [
    "colunas = ['cd_causa', 'cd_atendimento', 'ds_Acao_Judicial', 'ds_fatos', 'ds_Pedidos', 'ds_Qualificacao']"
   ]
  },
  {
   "cell_type": "code",
   "execution_count": 3,
   "id": "34562b55",
   "metadata": {},
   "outputs": [
    {
     "name": "stdout",
     "output_type": "stream",
     "text": [
      "(19800, 6)\n",
      "      cd_causa             cd_atendimento                 ds_Acao_Judicial  \\\n",
      "0   CIB0500064  0825789-84.2025.8.18.0140  90 - ACAO DE REPARACAO DE DANOS   \n",
      "1   CIB0505587  1004697-72.2025.8.26.0066  90 - ACAO DE REPARACAO DE DANOS   \n",
      "2   CIB0508201  0800423-07.2025.8.15.0761  90 - ACAO DE REPARACAO DE DANOS   \n",
      "3   CIB0514647  1004875-69.2025.8.26.0438  90 - ACAO DE REPARACAO DE DANOS   \n",
      "4   CIB0500604  0010630-50.2025.8.27.2706  90 - ACAO DE REPARACAO DE DANOS   \n",
      "5   CIB0511068  0092601-36.2025.8.05.0001  90 - ACAO DE REPARACAO DE DANOS   \n",
      "6   CIB0515030  0801575-51.2025.8.18.0068  90 - ACAO DE REPARACAO DE DANOS   \n",
      "7   CIB0515018  0801452-38.2025.8.18.0073  90 - ACAO DE REPARACAO DE DANOS   \n",
      "8   CIB0515702  0800895-81.2025.8.10.0038  90 - ACAO DE REPARACAO DE DANOS   \n",
      "9   CIB0514229  0148716-17.2025.8.04.1000  90 - ACAO DE REPARACAO DE DANOS   \n",
      "10  CIB0514230  0148734-38.2025.8.04.1000  90 - ACAO DE REPARACAO DE DANOS   \n",
      "11  CIB0524760  0161843-22.2025.8.04.1000  90 - ACAO DE REPARACAO DE DANOS   \n",
      "12  CIB0517405  0004351-52.2025.8.27.2737  90 - ACAO DE REPARACAO DE DANOS   \n",
      "13  CIB0540432  1001883-75.2025.8.26.0070  90 - ACAO DE REPARACAO DE DANOS   \n",
      "14  CIB0514066  0801632-65.2025.8.15.0161  90 - ACAO DE REPARACAO DE DANOS   \n",
      "15  CIB0532244  1001385-23.2025.8.26.0411  90 - ACAO DE REPARACAO DE DANOS   \n",
      "16  CIB0512854  1001468-36.2025.8.26.0218  90 - ACAO DE REPARACAO DE DANOS   \n",
      "17  CIB0522534  0801358-42.2025.8.15.0601  90 - ACAO DE REPARACAO DE DANOS   \n",
      "18  CIB0542569  4000472-77.2025.8.26.0576  90 - ACAO DE REPARACAO DE DANOS   \n",
      "19  CIB0544238  0802070-95.2025.8.18.0068  90 - ACAO DE REPARACAO DE DANOS   \n",
      "\n",
      "                                             ds_fatos  \\\n",
      "0   DOS FATOS A parte Autora, pessoa idosa e hipos...   \n",
      "1   DOS FATOS 5. A parte autora é pessoa idosa, hi...   \n",
      "2   DOS FATOS 1. SITUAÇÃO DE VULNERABILIDADE DO CO...   \n",
      "3   DOS FATOS De plano, necessário esclarecer que ...   \n",
      "4   DOS FATOS A parte Requerente é correntista usu...   \n",
      "5   DOS FATOS Inicialmente convém suscitar que a p...   \n",
      "6   DOS FATOS A Autora, senhora idosa e oriunda de...   \n",
      "7   DOS FATOS 6. O autor, pessoa idosa e hipervuln...   \n",
      "8   Num. 150469780 - Pág. 2 na 2 de 4 Danillo Bott...   \n",
      "9   DOS FATOS A parte Requerente é titular da cont...   \n",
      "10  DOS FATOS A parte Requerente é titular da cont...   \n",
      "11  DOS FATOS A autora é cliente do Banco Bradesco...   \n",
      "12  DOS FATOS: A parte Requerente foi surpreendida...   \n",
      "13  A Autora é titular da conta corrente n° 5302-3...   \n",
      "14  FÁTICA A requerente é aposentada, conforme com...   \n",
      "15  DOS FATOS A Autora é titular da conta bancária...   \n",
      "16  Dos fatos: O requerente é titular de conta jun...   \n",
      "17  PEREIRA PA ANDRADE S SILVA CONSULTORIA A conta...   \n",
      "18  O Autor é aposentado junto ao INSS, do qual au...   \n",
      "19  O(a) requerente é correntista de longa data do...   \n",
      "\n",
      "                                           ds_Pedidos  \\\n",
      "0   DOS PEDIDOS Ante ao exposto, requer: a) Sejam ...   \n",
      "1   DOS PEDIDOS E REQUERIMENTOS 33. Diante do expo...   \n",
      "2   DOS PEDIDOS E REQUERIMENTOS Ex Positis, requer...   \n",
      "3   DOS PEDIDOS Diante do exposto, requer-se a Vos...   \n",
      "4   DOS PEDIDOS 1. QUE SEJA DEFERIDA A GRATUIDADE ...   \n",
      "5   DOS PEDIDOS Por todo o exposto, REQUER: 1. A c...   \n",
      "6   DOS PEDIDOS Diante do exposto, requer: a) A co...   \n",
      "7   DOS PEDIDOS Ante todo exposto, requer: a) Conc...   \n",
      "8   Pelo exposto, impugnada a Contestação e Docume...   \n",
      "9   DOS PEDIDOS POR TUDO AQUI DEMONSTRADO, A PARTE...   \n",
      "10  DOS PEDIDOS POR TUDO AQUI DEMONSTRADO, A PARTE...   \n",
      "11  DOS PEDIDOS Diante do exposto, requer-se a Vos...   \n",
      "12  DOS PEDIDOS: Diante do exposto, a parte Requer...   \n",
      "13  Dessa forma, REQUER a condenação da parte Ré à...   \n",
      "14  DOS PEDIDOS Ex positis, considerando todas as ...   \n",
      "15  DOS PEDIDOS Ante o exposto, requer; a) A conce...   \n",
      "16  Diante do exposto, requer-se: a) Os benefícios...   \n",
      "17  PEDIDOS FINAIS EX POSITIS, com estribo nas dis...   \n",
      "18  Ante todo o exposto: A) Tramitação do presente...   \n",
      "19  06 - REQUERIMENTO A) O deferimento da Gratuida...   \n",
      "\n",
      "                                      ds_Qualificacao  \n",
      "0   DOUTO JUÍZO DE DIREITO DA ___ VARA CÍVEL DA CO...  \n",
      "1   (17) 99779-9177 / EXCELENTÍSSIMO SENHOR DOUTOR...  \n",
      "2   AO COLENDO JUÍZO DA VARA ÚNICA DA COMARCA DE G...  \n",
      "3   Avenida Eduardo de Castilho, n.o 315, Centro, ...  \n",
      "4   AO DOUTO JUÍZO DA VARA CÍVEL DA COMARCA DE ARA...  \n",
      "5   Cel.: (71) 99911-8692 e-mail: AO DOUTO JUÍZO D...  \n",
      "6   AO JUIZO DA VARA ÚNICA DA COMARCA DE PORTO-PI ...  \n",
      "7   AO JUÍZO DA 2° VARA DA COMARCA DE SÃO RAIMUNDO...  \n",
      "8   Num. 150469780 - Pág. 1 na 1 de 4 Danillo Bott...  \n",
      "9   Rua Franco de Sá, 99, São Francisco, Manaus/AM...  \n",
      "10  Rua Franco de Sá, 99, São Francisco, Manaus/AM...  \n",
      "11  Rua Franco de Sá, 99, São Francisco, Manaus/AM...  \n",
      "12  ______________________________________________...  \n",
      "13  EXCELENTÍSSIMO SENHOR JUIZ DE DIREITO DA VARA ...  \n",
      "14  Rua Caetano Dantas, n.o 424, Centro, Cuité/PB ...  \n",
      "15  Estrada Alto Iracema, no 846, CEP 17.860-000 ...  \n",
      "16  A D V O C A C I A Luiz Carlos Galhardo OAB/SP ...  \n",
      "17  PEREIRA PA ANDRADE S SILVA CONSULTORIA AO JUÍZ...  \n",
      "18  AO DOUTO JUÍZO DA _ª VARA CÍVEL DO JUIZADO ESP...  \n",
      "19  EXCELENTÍSSIMO (A) SENHOR (A) DOUTOR (A) JUIZ ...  \n"
     ]
    }
   ],
   "source": [
    "# LINHA DE SELECAO DO INPUT\n",
    "df = pd.read_csv(\n",
    "    \"dataset_clinica20252.csv\",\n",
    "    sep=\"|\",               \n",
    "    encoding=\"utf-8\"     \n",
    ")\n",
    "\n",
    "print(df.shape)\n",
    "print(df.head(20))"
   ]
  },
  {
   "cell_type": "code",
   "execution_count": 4,
   "id": "409b0e0d",
   "metadata": {},
   "outputs": [
    {
     "name": "stderr",
     "output_type": "stream",
     "text": [
      "/home/danilo/.local/lib/python3.10/site-packages/langchain_pinecone/__init__.py:3: LangChainDeprecationWarning: As of langchain-core 0.3.0, LangChain uses pydantic v2 internally. The langchain_core.pydantic_v1 module was a compatibility shim for pydantic v1, and should no longer be used. Please update the code to import from Pydantic directly.\n",
      "\n",
      "For example, replace imports like: `from langchain_core.pydantic_v1 import BaseModel`\n",
      "with: `from pydantic import BaseModel`\n",
      "or the v1 compatibility namespace if you are working in a code base that has not been fully upgraded to pydantic 2 yet. \tfrom pydantic.v1 import BaseModel\n",
      "\n",
      "  from langchain_pinecone.vectorstores import Pinecone, PineconeVectorStore\n"
     ]
    }
   ],
   "source": [
    "from utils.vector_store import search_vector_store\n",
    "\n",
    "def exemplos_contexto(query: str):\n",
    "    positivos, negativos = search_vector_store(query)\n",
    "    return positivos, negativos"
   ]
  },
  {
   "cell_type": "code",
   "execution_count": 5,
   "id": "3e0f2b0e",
   "metadata": {},
   "outputs": [
    {
     "name": "stdout",
     "output_type": "stream",
     "text": [
      "[{'texto': '\\n        A parte autora, pessoa sem leitura, é titular de um benefício previdenciário que é a fonte do sustento seu e de sua família. \\n        Com o fim de aclarar a quantidade e natureza dos descontos que vem experimentando em seu benefício, procurou ajuda profissional \\n        para que fossem feitos os requerimentos administrativos e demais investigações por um profissional especializado e de sua confiança.  \\n        Nesta oportunidade, e em observância ao extrato fornecido pela Previdência Social (doc. em anexo), foi constatado que seu benefício \\n        sofreu e/ou vem sofrendo descontos por parte da requerida em decorrência de empréstimo consignado, com os seguintes contratos: \\n        NOME: LUZIA BATISTA DA SILVA BANCO REQUERIDO: BANCO BRADESCO S.A. ? 1º Contrato n°386039739, no valor mensal fixo de R$150,77, \\n        com vigência de 11/02/2020 - 30/01/2024, com o total de 48 parcelas pagas até a presente data, totalizando o valor de R$7236,96\\n        ', 'score': 0.785028517}, {'texto': '\\n        A parte Autora é beneficiária da Previdência Social, sendo tal sua única fonte de renda.  \\n        Portanto, por ser aposentada pelo INSS, a parte autora fica vulnerável a ter em sua folha  de pagamento, \\n        descontos indevidos, como aqueles oriundos de Empréstimos  Consignados, e todos os demais, que podem ser \\n        realizados em folha, mediante a simples  posse dos dados cadastrais do Requerente.  Ocorre que a parte \\n        Requerente, ao analisar sua folha de pagamento, pode perceber que,  vem lhe sendo descontado, valores \\n        referentes a empréstimo consignado que sequer tem  conhecimento e muito menos utilizou, conforme informações \\n        abaixo extraídas do portal  MEU INSS:\\n        ', 'score': 0.756591797}, {'texto': '\\n        A parte Autora é titular do benefício previdenciário de nº 194.285.875-0 e, de acordo com extrato fornecido pelo \\n        INSS (doc. em anexo), o referido benefício vem sofrendo descontos em razão de empréstimo consignado supostamente \\n        efetuado pela parte autora. O referido contrato de n° 507904789 foi averbado com os seguintes dados:  Contudo, \\n        a parte autora informa ter sido vítima de golpes fraudulentos, pois além de analfabeta, a parte requerente reside \\n        na zona rural e possui pouco conhecimento sobre instituições financeiras.\\n        ', 'score': 0.733074188}] [{'texto': 'DOS FATOS A parte autora tomou empréstimo de valores com a requerida. \\n        No entanto, esta última em seu contrato de adesão impôs juros exorbitantes que superam múltiplas \\n        vezes a média de mercado, endividando a parte autora de maneira desproporcional, \\n        impondo demasiado desequilíbrio contratual entre as partes. As parcelas são descontadas \\n        diretamente na conta corrente da requerente. Veja-se o profundo prejuízo: Ardilosamente o \\n        empréstimo realizado pela Ré se reveste das mesmas características e garantias do “empréstimo consignado”, \\n        contudo, sem a necessidade de atenção as normas legais que delimitam esta modalidade de empréstimo, \\n        possibilitando à Ré agir de forma abusiva em contrato de adesão, tomando boa parte do seu benefício \\n        previdenciário, reduzindo-a a condição de miserabilidade. Para conferir o original, acesse o site informe o \\n        processo 1012023-81.2025.8.26.0196 e código U51COoIY.  6', 'score': 0.773263931}]\n"
     ]
    }
   ],
   "source": [
    "exemplos_positivos, exemplos_negativos = exemplos_contexto(df['ds_fatos'].iloc[0])\n",
    "print(exemplos_positivos, exemplos_negativos)"
   ]
  },
  {
   "cell_type": "code",
   "execution_count": 7,
   "id": "75d8247c",
   "metadata": {},
   "outputs": [],
   "source": [
    "class BinaryChoice(str, Enum):\n",
    "    SIM = \"SIM\"\n",
    "    NAO = \"NAO\"\n",
    "\n",
    "class Classificador(BaseModel):\n",
    "    binary_score: BinaryChoice = Field(\n",
    "        description=\"SIM para crédito consignado como causa raiz, NAO para documentos com outra causa principal\"\n",
    "    )\n"
   ]
  },
  {
   "cell_type": "code",
   "execution_count": null,
   "id": "c414c538",
   "metadata": {},
   "outputs": [],
   "source": [
    "def classificar_linhas(texto: str) -> str:\n",
    "    model = ChatOpenAI(model=\"gpt-4o\", temperature=0)\n",
    "\n",
    "    pos, neg = exemplos_contexto(texto)\n",
    "    ctx_true = \"\\n\".join([f\"{ex['texto']} - score: {ex['score']}\" for i, ex in enumerate(pos)])\n",
    "    ctx_false = \"\\n\".join([f\"{ex['texto']} - score: {ex['score']}\" for i, ex in enumerate(neg)])\n",
    "\n",
    "    parser = PydanticOutputParser(pydantic_object=Classificador)\n",
    "    \n",
    "    prompt_template = '''\n",
    "    Você é um especialista em análise de documentos jurídicos brasileiros.\n",
    "\n",
    "    Analise o texto abaixo e classifique se o caso trata de CRÉDITO CONSIGNADO.\n",
    "\n",
    "    CRÉDITO CONSIGNADO é caracterizado por:\n",
    "    - Contratação VOLUNTÁRIA de empréstimo com desconto em folha de pagamento\n",
    "    - Autor SOLICITOU o empréstimo e AUTORIZOU os descontos\n",
    "    - Discussão sobre TAXAS DE JUROS, PRAZOS ou CONDIÇÕES do empréstimo consignado\n",
    "    - Margem consignável excedida\n",
    "    - Problemas com portabilidade de crédito consignado\n",
    "\n",
    "    NÃO é crédito consignado:\n",
    "    - Descontos NÃO AUTORIZADOS de seguros, cartões ou serviços bancários\n",
    "    - Cobranças indevidas de produtos não contratados\n",
    "    - Venda casada\n",
    "    - Negativação indevida\n",
    "    - Cartão de crédito comum (não consignado)\n",
    "\n",
    "    Use como contexto os exemplos abaixo:\n",
    "    Exemplos POSITIVOS (CRÉDITO CONSIGNADO):\n",
    "    {ctx_true}\n",
    "\n",
    "    Exemplos NEGATIVOS (NÃO CRÉDITO CONSIGNADO):\n",
    "    {ctx_false}\n",
    "\n",
    "    Utilize o score dos exemplos para ajudar na decisão.\n",
    "\n",
    "    Texto para analisar: {texto}\n",
    "\n",
    "    {format_instructions}\n",
    "    '''\n",
    "        \n",
    "    prompt = ChatPromptTemplate.from_template(\n",
    "        template=prompt_template,\n",
    "        partial_variables={\n",
    "            \"format_instructions\": parser.get_format_instructions(),\n",
    "            \"ctx_true\": ctx_true,\n",
    "            \"ctx_false\": ctx_false}\n",
    "    )\n",
    "    \n",
    "    \n",
    "\n",
    "    chain = prompt | model | parser\n",
    "    #rendered = prompt.format(texto=texto)\n",
    "    #print(\"=== PROMPT RENDERIZADO ===\")\n",
    "    #print(rendered)\n",
    "    #print(\"===========================\")\n",
    "    \n",
    "    resultado = chain.invoke({\"texto\": texto})\n",
    "    return resultado.binary_score.value"
   ]
  },
  {
   "cell_type": "code",
   "execution_count": 33,
   "id": "3bfcd986",
   "metadata": {},
   "outputs": [
    {
     "name": "stdout",
     "output_type": "stream",
     "text": [
      "=== PROMPT RENDERIZADO ===\n",
      "Human: \n",
      "    Você é um especialista em análise de documentos jurídicos brasileiros.\n",
      "\n",
      "    Analise o texto abaixo e classifique se o caso trata de CRÉDITO CONSIGNADO.\n",
      "\n",
      "    CRÉDITO CONSIGNADO é caracterizado por:\n",
      "    - Contratação VOLUNTÁRIA de empréstimo com desconto em folha de pagamento\n",
      "    - Autor SOLICITOU o empréstimo e AUTORIZOU os descontos\n",
      "    - Discussão sobre TAXAS DE JUROS, PRAZOS ou CONDIÇÕES do empréstimo consignado\n",
      "    - Margem consignável excedida\n",
      "    - Problemas com portabilidade de crédito consignado\n",
      "\n",
      "    NÃO é crédito consignado:\n",
      "    - Descontos NÃO AUTORIZADOS de seguros, cartões ou serviços bancários\n",
      "    - Cobranças indevidas de produtos não contratados\n",
      "    - Venda casada\n",
      "    - Negativação indevida\n",
      "    - Cartão de crédito comum (não consignado)\n",
      "\n",
      "    Use como contexto os exemplos abaixo:\n",
      "    Exemplos POSITIVOS (CRÉDITO CONSIGNADO):\n",
      "    \n",
      "        A parte autora, pessoa sem leitura, é titular de um benefício previdenciário que é a fonte do sustento seu e de sua família. \n",
      "        Com o fim de aclarar a quantidade e natureza dos descontos que vem experimentando em seu benefício, procurou ajuda profissional \n",
      "        para que fossem feitos os requerimentos administrativos e demais investigações por um profissional especializado e de sua confiança.  \n",
      "        Nesta oportunidade, e em observância ao extrato fornecido pela Previdência Social (doc. em anexo), foi constatado que seu benefício \n",
      "        sofreu e/ou vem sofrendo descontos por parte da requerida em decorrência de empréstimo consignado, com os seguintes contratos: \n",
      "        NOME: LUZIA BATISTA DA SILVA BANCO REQUERIDO: BANCO BRADESCO S.A. ? 1º Contrato n°386039739, no valor mensal fixo de R$150,77, \n",
      "        com vigência de 11/02/2020 - 30/01/2024, com o total de 48 parcelas pagas até a presente data, totalizando o valor de R$7236,96\n",
      "         - score: 0.784763455\n",
      "\n",
      "        A parte Autora é beneficiária da Previdência Social, sendo tal sua única fonte de renda.  \n",
      "        Portanto, por ser aposentada pelo INSS, a parte autora fica vulnerável a ter em sua folha  de pagamento, \n",
      "        descontos indevidos, como aqueles oriundos de Empréstimos  Consignados, e todos os demais, que podem ser \n",
      "        realizados em folha, mediante a simples  posse dos dados cadastrais do Requerente.  Ocorre que a parte \n",
      "        Requerente, ao analisar sua folha de pagamento, pode perceber que,  vem lhe sendo descontado, valores \n",
      "        referentes a empréstimo consignado que sequer tem  conhecimento e muito menos utilizou, conforme informações \n",
      "        abaixo extraídas do portal  MEU INSS:\n",
      "         - score: 0.756494582\n",
      "\n",
      "        A parte Autora é titular do benefício previdenciário de nº 194.285.875-0 e, de acordo com extrato fornecido pelo \n",
      "        INSS (doc. em anexo), o referido benefício vem sofrendo descontos em razão de empréstimo consignado supostamente \n",
      "        efetuado pela parte autora. O referido contrato de n° 507904789 foi averbado com os seguintes dados:  Contudo, \n",
      "        a parte autora informa ter sido vítima de golpes fraudulentos, pois além de analfabeta, a parte requerente reside \n",
      "        na zona rural e possui pouco conhecimento sobre instituições financeiras.\n",
      "         - score: 0.732696593\n",
      "\n",
      "    Exemplos NEGATIVOS (NÃO CRÉDITO CONSIGNADO):\n",
      "    DOS FATOS A parte autora tomou empréstimo de valores com a requerida. \n",
      "        No entanto, esta última em seu contrato de adesão impôs juros exorbitantes que superam múltiplas \n",
      "        vezes a média de mercado, endividando a parte autora de maneira desproporcional, \n",
      "        impondo demasiado desequilíbrio contratual entre as partes. As parcelas são descontadas \n",
      "        diretamente na conta corrente da requerente. Veja-se o profundo prejuízo: Ardilosamente o \n",
      "        empréstimo realizado pela Ré se reveste das mesmas características e garantias do “empréstimo consignado”, \n",
      "        contudo, sem a necessidade de atenção as normas legais que delimitam esta modalidade de empréstimo, \n",
      "        possibilitando à Ré agir de forma abusiva em contrato de adesão, tomando boa parte do seu benefício \n",
      "        previdenciário, reduzindo-a a condição de miserabilidade. Para conferir o original, acesse o site informe o \n",
      "        processo 1012023-81.2025.8.26.0196 e código U51COoIY.  6 - score: 0.773059905\n",
      "\n",
      "    Utilize o score dos exemplos para ajudar na decisão.\n",
      "\n",
      "    Texto para analisar: DOS FATOS A parte Autora, pessoa idosa e hipossuficiente, é aposentada pelo INSS e percebe o valor mensal bruto de um salário mínimo. A Requerente recebe a referida quantia em seu cartão de conta corrente do referido Banco Requerido. Ocorre que desde janeiro de 2020, vem sendo descontado valores referente à GASTOS DE CARTÃO DE CRÉDITO imputado em sua conta corrente (EXTRATOS EM ANEXO). Acontece que a parte Autora não contratou e não utiliza cartão de crédito nenhum do banco Requerido, desconhecendo a origem dos descontos feitos por parte do Requerido. Ressalta-se, Vossa Excelência, que o único intuito da referida conta da parte Requerente é o recebimento e saque do seu benefício, conforme extratos da conta com as movimentações em anexo, e ao invés de ser fornecido uma conta benefício para o mesmo, foi aberta uma conta corrente em seu nome, utilizando-se de sua falta de conhecimentos técnicos. É importante ressaltar que a parte Requerente é pessoa idosa, de conhecimentos técnicos limitados, e não faz uso de cartão de crédito. É nítido que o Requerido se utilizou das peculiaridades da Requerente para imputar a mesma um cartão de crédito não contratado e do qual não faz o uso, descontando mensalmente valores consideráveis de sua conta corrente, acreditando que o Requerente não iria saber a origem do desconto, o que é um total descaso para o consumidor. Importante frisar também, que tais descontos são indevidos, visto que o Requerente não é devedor do valor cobrado pois não contratou o referido cartão de crédito, sendo tal contrato Num. 75670391 - Pág. 2 Assinado eletronicamente por: LINDEMBERG FERREIRA SOARES CHAVES - 14/05/2025 16:37:18 Número do documento: 25051416371803600000070628782 INEXISTENTE, como restará provado com base nas provas anexas, assim como no mérito da questão. TABELA COM VALORES DESCONTADOS A TÍTULO DE GASTOS DE CARTÃO DE CRÉDITO VALOR TOTAL SIMPLES = R$ 5.953,32 (cinco mil, novecentos e cinquenta e três reais e trinta e dois centavos) REPETIÇÃO DO INDÉBITO = R$11.906,64 (onze mil, novecentos e seis reais e sessenta e quatro centavos). 3. \n",
      "\n",
      "    The output should be formatted as a JSON instance that conforms to the JSON schema below.\n",
      "\n",
      "As an example, for the schema {\"properties\": {\"foo\": {\"title\": \"Foo\", \"description\": \"a list of strings\", \"type\": \"array\", \"items\": {\"type\": \"string\"}}}, \"required\": [\"foo\"]}\n",
      "the object {\"foo\": [\"bar\", \"baz\"]} is a well-formatted instance of the schema. The object {\"properties\": {\"foo\": [\"bar\", \"baz\"]}} is not well-formatted.\n",
      "\n",
      "Here is the output schema:\n",
      "```\n",
      "{\"$defs\": {\"BinaryChoice\": {\"enum\": [\"SIM\", \"NAO\"], \"title\": \"BinaryChoice\", \"type\": \"string\"}}, \"properties\": {\"binary_score\": {\"allOf\": [{\"$ref\": \"#/$defs/BinaryChoice\"}], \"description\": \"SIM para crédito consignado como causa raiz, NAO para documentos com outra causa principal\"}}, \"required\": [\"binary_score\"]}\n",
      "```\n",
      "    \n",
      "===========================\n"
     ]
    },
    {
     "data": {
      "text/plain": [
       "'NAO'"
      ]
     },
     "execution_count": 33,
     "metadata": {},
     "output_type": "execute_result"
    }
   ],
   "source": [
    "texto = df['ds_fatos'].iloc[0]\n",
    "\n",
    "classificar_linhas(texto)"
   ]
  },
  {
   "cell_type": "code",
   "execution_count": 27,
   "id": "3bfcd986",
   "metadata": {},
   "outputs": [
    {
     "data": {
      "text/plain": [
       "'SIM'"
      ]
     },
     "execution_count": 27,
     "metadata": {},
     "output_type": "execute_result"
    }
   ],
   "source": [
    "df_validado_true = df.loc[\n",
    "    df['ds_fatos'].str.contains(\"A parte Autora é beneficiária da Previdência Social, sendo tal sua única fonte de renda.  Portanto, por\", \n",
    "    na=False)]\n",
    "\n",
    "texto = df_validado_true['ds_fatos'].iloc[0]\n",
    "\n",
    "classificar_linhas(texto)"
   ]
  }
 ],
 "metadata": {
  "kernelspec": {
   "display_name": "Python 3",
   "language": "python",
   "name": "python3"
  },
  "language_info": {
   "codemirror_mode": {
    "name": "ipython",
    "version": 3
   },
   "file_extension": ".py",
   "mimetype": "text/x-python",
   "name": "python",
   "nbconvert_exporter": "python",
   "pygments_lexer": "ipython3",
   "version": "3.10.12"
  }
 },
 "nbformat": 4,
 "nbformat_minor": 5
}
