{
 "cells": [
  {
   "cell_type": "code",
   "execution_count": 23,
   "id": "95ffef93",
   "metadata": {},
   "outputs": [],
   "source": [
    "import pandas as pd\n",
    "import numpy as np\n",
    "import matplotlib.pyplot as plt\n"
   ]
  },
  {
   "cell_type": "code",
   "execution_count": 24,
   "id": "3fb100eb",
   "metadata": {},
   "outputs": [],
   "source": [
    "colunas = ['cd_causa', 'cd_atendimento', 'ds_Acao_Judicial', 'ds_fatos', 'ds_Pedidos', 'ds_Qualificacao']"
   ]
  },
  {
   "cell_type": "code",
   "execution_count": 25,
   "id": "f4385569",
   "metadata": {},
   "outputs": [
    {
     "name": "stdout",
     "output_type": "stream",
     "text": [
      "(19800, 6)\n",
      "     cd_causa             cd_atendimento                 ds_Acao_Judicial  \\\n",
      "0  CIB0500064  0825789-84.2025.8.18.0140  90 - ACAO DE REPARACAO DE DANOS   \n",
      "1  CIB0505587  1004697-72.2025.8.26.0066  90 - ACAO DE REPARACAO DE DANOS   \n",
      "2  CIB0508201  0800423-07.2025.8.15.0761  90 - ACAO DE REPARACAO DE DANOS   \n",
      "3  CIB0514647  1004875-69.2025.8.26.0438  90 - ACAO DE REPARACAO DE DANOS   \n",
      "4  CIB0500604  0010630-50.2025.8.27.2706  90 - ACAO DE REPARACAO DE DANOS   \n",
      "\n",
      "                                            ds_fatos  \\\n",
      "0  DOS FATOS A parte Autora, pessoa idosa e hipos...   \n",
      "1  DOS FATOS 5. A parte autora Ã© pessoa idosa, h...   \n",
      "2  DOS FATOS 1. SITUAÃÃO DE VULNERABILIDADE DO ...   \n",
      "3  DOS FATOS De plano, necessÃ¡rio esclarecer que...   \n",
      "4  DOS FATOS A parte Requerente Ã© correntista us...   \n",
      "\n",
      "                                          ds_Pedidos  \\\n",
      "0  DOS PEDIDOS Ante ao exposto, requer: a) Sejam ...   \n",
      "1  DOS PEDIDOS E REQUERIMENTOS 33. Diante do expo...   \n",
      "2  DOS PEDIDOS E REQUERIMENTOS Ex Positis, requer...   \n",
      "3  DOS PEDIDOS Diante do exposto, requer-se a Vos...   \n",
      "4  DOS PEDIDOS 1. QUE SEJA DEFERIDA A GRATUIDADE ...   \n",
      "\n",
      "                                     ds_Qualificacao  \n",
      "0  DOUTO JUÃZO DE DIREITO DA ___ VARA CÃVEL DA ...  \n",
      "1  (17) 99779-9177 / EXCELENTÃSSIMO SENHOR DOUTO...  \n",
      "2  AO COLENDO JUÃZO DA VARA ÃNICA DA COMARCA DE...  \n",
      "3  Avenida Eduardo de Castilho, n.o 315, Centro, ...  \n",
      "4  AO DOUTO JUÃZO DA VARA CÃVEL DA COMARCA DE A...  \n"
     ]
    }
   ],
   "source": [
    "# LINHA DE SELECAO DO INPUT\n",
    "df = pd.read_csv(\n",
    "    \"dataset_clinica20252.csv\",\n",
    "    sep=\"|\",                # <-- usar '|' como delimitador\n",
    "    engine=\"python\",        # parser mais tolerante a linhas irregulares\n",
    "    encoding=\"latin1\",      # alternativa robusta a UTF-8 (troque para \"utf-8\" se souber que é UTF-8)\n",
    "    on_bad_lines=\"warn\"     # \"skip\" para pular completamente as linhas com problema, ou \"warn\" para só avisar\n",
    ")\n",
    "\n",
    "print(df.shape)\n",
    "print(df.head(5))"
   ]
  },
  {
   "cell_type": "code",
   "execution_count": 26,
   "id": "0f2dd9ff",
   "metadata": {},
   "outputs": [],
   "source": [
    "palavras_chave = [\n",
    "    \"empréstimo consignado\",\n",
    "    \"crédito com desconto em folha\",\n",
    "    \"empréstimo com desconto em folha\",\n",
    "    \"empréstimo em folha de pagamento\",\n",
    "    \"crédito em folha\",\n",
    "    \"empréstimo automático em folha\",\n",
    "    \"financiamento consignado\",\n",
    "    \"crédito consignável\",\n",
    "    \"linha de crédito consignada\",\n",
    "    \"margem consignável\",\n",
    "    \"reserva de margem consignada (rmc)\",\n",
    "    \"operação consignada\",\n",
    "    \"parcelas descontadas em folha\",\n",
    "    \"crédito com desconto automático\",\n",
    "    \"empréstimo vinculado ao salário\",\n",
    "    \"empréstimo vinculado ao benefício do inss\",\n",
    "    \"crédito vinculado à aposentadoria/pensão\",\n",
    "    \"desconto direto em folha\",\n",
    "    \"crédito para servidores/pensionistas\",\n",
    "    \"crédito para aposentados e pensionistas do inss\"\n",
    "]\n"
   ]
  },
  {
   "cell_type": "code",
   "execution_count": 27,
   "id": "1df12c5f",
   "metadata": {},
   "outputs": [],
   "source": [
    "def filtrar_linhas(df):\n",
    "    cd_atendimentos_filtrados = []\n",
    "    \n",
    "    for index, row in df.iterrows():\n",
    "        ds_fatos_texto = str(row['ds_fatos']).lower()  \n",
    "        for palavra in palavras_chave:\n",
    "            if palavra.lower() in ds_fatos_texto:\n",
    "                cd_atendimentos_filtrados.append(row['cd_atendimento'])\n",
    "                break\n",
    "    \n",
    "    df_final = pd.DataFrame(cd_atendimentos_filtrados, columns=['cd_atendimento'])\n",
    "    \n",
    "    df_final.to_excel('output.xlsx', index=False)\n",
    "    \n",
    "    return df_final\n",
    "\n"
   ]
  },
  {
   "cell_type": "code",
   "execution_count": 28,
   "id": "8c9b87a1",
   "metadata": {},
   "outputs": [
    {
     "name": "stdout",
     "output_type": "stream",
     "text": [
      "Total de registros filtrados: 226\n",
      "              cd_atendimento\n",
      "0  0001017-10.2025.8.04.7600\n",
      "1  1007108-74.2025.8.26.0006\n",
      "2  1006453-68.2025.8.26.0664\n",
      "3  0801384-61.2025.8.20.5108\n",
      "4  0700350-25.2025.8.02.0038\n"
     ]
    }
   ],
   "source": [
    "# Chamar a função\n",
    "resultado = filtrar_linhas(df)\n",
    "print(f\"Total de registros filtrados: {len(resultado)}\")\n",
    "print(resultado.head())"
   ]
  }
 ],
 "metadata": {
  "kernelspec": {
   "display_name": "Python 3",
   "language": "python",
   "name": "python3"
  },
  "language_info": {
   "codemirror_mode": {
    "name": "ipython",
    "version": 3
   },
   "file_extension": ".py",
   "mimetype": "text/x-python",
   "name": "python",
   "nbconvert_exporter": "python",
   "pygments_lexer": "ipython3",
   "version": "3.11.9"
  }
 },
 "nbformat": 4,
 "nbformat_minor": 5
}
