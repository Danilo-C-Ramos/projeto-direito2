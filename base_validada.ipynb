{
 "cells": [
  {
   "cell_type": "code",
   "execution_count": null,
   "id": "270eec4d",
   "metadata": {},
   "outputs": [],
   "source": [
    "import pandas as pd\n",
    "from langchain.chat_models import ChatOpenAI\n",
    "from langchain.prompts import ChatPromptTemplate\n",
    "from enum import Enum\n",
    "from pydantic import BaseModel, Field\n",
    "from langchain_core.output_parsers import PydanticOutputParser\n",
    "from pinecone import Pinecone, ServerlessSpec\n",
    "from langchain_pinecone import PineconeVectorStore\n",
    "from langchain_openai import OpenAIEmbeddings\n",
    "from langchain.schema import Document\n",
    "import os\n",
    "from dotenv import load_dotenv"
   ]
  },
  {
   "cell_type": "code",
   "execution_count": null,
   "id": "f7c5d220",
   "metadata": {},
   "outputs": [],
   "source": [
    "colunas = ['cd_causa', 'cd_atendimento', 'ds_Acao_Judicial', 'ds_fatos', 'ds_Pedidos', 'ds_Qualificacao']"
   ]
  },
  {
   "cell_type": "code",
   "execution_count": null,
   "id": "fdb2c4ef",
   "metadata": {},
   "outputs": [],
   "source": [
    "# LINHA DE SELECAO DO INPUT\n",
    "df = pd.read_csv(\n",
    "    \"dataset_clinica20252.csv\",\n",
    "    sep=\"|\",               \n",
    "    encoding=\"utf-8\"     \n",
    ")\n",
    "\n",
    "print(df.shape)\n",
    "print(df.head(20))"
   ]
  },
  {
   "cell_type": "code",
   "execution_count": null,
   "id": "b156a7bf",
   "metadata": {},
   "outputs": [],
   "source": [
    "df_validado_true = df.loc[\n",
    "    df['ds_fatos'].str.contains(\"A parte Autora é beneficiária da Previdência Social, sendo tal sua única fonte de renda.  Portanto, por\", \n",
    "    na=False)]\n",
    "print(df_validado_true.shape)\n",
    "print(df_validado_true.head())"
   ]
  },
  {
   "cell_type": "code",
   "execution_count": null,
   "id": "ebe6c76f",
   "metadata": {},
   "outputs": [],
   "source": [
    "load_dotenv(override=True)\n",
    "def cria_vector_store():\n",
    "    pc = Pinecone(api_key=os.getenv(\"PINECONE_API_KEY\")) \n",
    "\n",
    "    index_name = \"clinicas\"\n",
    "    if not pc.has_index(index_name):\n",
    "        pc.create_index(\n",
    "            name=index_name,\n",
    "            dimension=3072,\n",
    "            metric='cosine',\n",
    "            spec=ServerlessSpec(cloud='aws', region='us-east-1')\n",
    "        )\n",
    "\n",
    "    index = pc.Index(index_name)\n",
    "\n",
    "    index.delete(delete_all=True)\n",
    "\n",
    "    embeddings = OpenAIEmbeddings(\n",
    "        model=\"text-embedding-3-large\",\n",
    "        openai_api_key=os.getenv(\"OPENAI_API_KEY\")\n",
    "    )\n",
    "\n",
    "    docs = []\n",
    "    for text in df_validado_true['ds_fatos'].dropna():\n",
    "        doc = Document(page_content=text, metadata={\"label\": \"SIM\"})\n",
    "        docs.append(doc)\n",
    "\n",
    "    print(len(docs))\n",
    "    print(docs[0])\n",
    "\n",
    "    vector_store = PineconeVectorStore.from_documents(\n",
    "        docs,\n",
    "        embeddings,\n",
    "        index_name=index_name\n",
    "    )\n",
    "\n",
    "    return vector_store"
   ]
  }
 ],
 "metadata": {
  "language_info": {
   "name": "python"
  }
 },
 "nbformat": 4,
 "nbformat_minor": 5
}
